{
 "cells": [
  {
   "cell_type": "markdown",
   "metadata": {},
   "source": [
    "# Load Adapter\n",
    "\n",
    "Peft and Orignal for comparison\n"
   ]
  },
  {
   "cell_type": "code",
   "execution_count": 7,
   "metadata": {},
   "outputs": [],
   "source": [
    "# Load Model\n",
    "\n",
    "from transformers import AutoModelForCausalLM, pipeline\n",
    "\n",
    "peft_model_id = \"./outputs/model\"\n",
    "model_id = \"facebook/opt-350m\"\n",
    "\n",
    "peftTranscriber = pipeline(\n",
    "    model=peft_model_id\n",
    ")\n",
    "\n",
    "modelTranscriber = pipeline(\n",
    "    model=model_id\n",
    ")"
   ]
  },
  {
   "cell_type": "markdown",
   "metadata": {},
   "source": [
    "# Inference"
   ]
  },
  {
   "cell_type": "code",
   "execution_count": 9,
   "metadata": {},
   "outputs": [
    {
     "name": "stdout",
     "output_type": "stream",
     "text": [
      "PEFT: So many books,  so little time.\n",
      "I'm in the same boat. I'm reading\n",
      "ORIG:  So many books,  I'm not sure what to do with them.\n",
      "I'm sure you\n"
     ]
    }
   ],
   "source": [
    "prompt = \"So many books, \"\n",
    "\n",
    "print(\"PEFT:\", peftTranscriber(prompt)[0]['generated_text'])\n",
    "print(\"ORIG: \", modelTranscriber(prompt)[0]['generated_text'])\n"
   ]
  }
 ],
 "metadata": {
  "kernelspec": {
   "display_name": "trainLLM",
   "language": "python",
   "name": "python3"
  },
  "language_info": {
   "codemirror_mode": {
    "name": "ipython",
    "version": 3
   },
   "file_extension": ".py",
   "mimetype": "text/x-python",
   "name": "python",
   "nbconvert_exporter": "python",
   "pygments_lexer": "ipython3",
   "version": "3.11.5"
  }
 },
 "nbformat": 4,
 "nbformat_minor": 2
}
