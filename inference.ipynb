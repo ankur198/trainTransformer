{
 "cells": [
  {
   "cell_type": "markdown",
   "metadata": {},
   "source": [
    "# Load Adapter\n",
    "\n",
    "Peft and Orignal for comparison\n"
   ]
  },
  {
   "cell_type": "code",
   "execution_count": 1,
   "metadata": {},
   "outputs": [
    {
     "name": "stderr",
     "output_type": "stream",
     "text": [
      "/home/ankur/miniconda3/envs/trainLLM/lib/python3.11/site-packages/torch/_utils.py:831: UserWarning: TypedStorage is deprecated. It will be removed in the future and UntypedStorage will be the only storage class. This should only matter to you if you are using storages directly.  To access UntypedStorage directly, use tensor.untyped_storage() instead of tensor.storage()\n",
      "  return self.fget.__get__(instance, owner)()\n"
     ]
    }
   ],
   "source": [
    "# Load Model\n",
    "\n",
    "from transformers import AutoModelForCausalLM, pipeline\n",
    "\n",
    "peft_model_id = \"./outputs/model\"\n",
    "model_id = \"facebook/opt-350m\"\n",
    "\n",
    "peftTranscriber = pipeline(\n",
    "    model=peft_model_id, device_map=\"auto\", model_kwargs={\"load_in_8bit\": True}\n",
    ")\n",
    "\n",
    "modelTranscriber = pipeline(\n",
    "    model=model_id, device_map=\"auto\", model_kwargs={\"load_in_8bit\": True}\n",
    ")"
   ]
  },
  {
   "cell_type": "markdown",
   "metadata": {},
   "source": [
    "# Inference"
   ]
  },
  {
   "cell_type": "code",
   "execution_count": 4,
   "metadata": {},
   "outputs": [
    {
     "name": "stdout",
     "output_type": "stream",
     "text": [
      "PEFT: A lie can travel half way around the world before the truth has a chance to get its pants on\n",
      "ORIG:  A lie can travel half way around the world.\n",
      "I'm not sure if you're being sarcastic\n"
     ]
    }
   ],
   "source": [
    "prompt = \"A lie can travel half way\"\n",
    "\n",
    "print(\"PEFT:\", peftTranscriber(prompt)[0]['generated_text'])\n",
    "print(\"ORIG: \", modelTranscriber(prompt)[0]['generated_text'])\n"
   ]
  }
 ],
 "metadata": {
  "kernelspec": {
   "display_name": "trainLLM",
   "language": "python",
   "name": "python3"
  },
  "language_info": {
   "codemirror_mode": {
    "name": "ipython",
    "version": 3
   },
   "file_extension": ".py",
   "mimetype": "text/x-python",
   "name": "python",
   "nbconvert_exporter": "python",
   "pygments_lexer": "ipython3",
   "version": "3.11.5"
  }
 },
 "nbformat": 4,
 "nbformat_minor": 2
}
